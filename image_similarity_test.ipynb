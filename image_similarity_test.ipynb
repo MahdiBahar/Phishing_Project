{
 "cells": [
  {
   "cell_type": "code",
   "execution_count": 1,
   "id": "3984a737-63b1-451a-91b8-241b5a3cd377",
   "metadata": {},
   "outputs": [],
   "source": [
    "import cv2\n",
    "import numpy as np\n",
    "import torch\n",
    "import torchvision.transforms as transforms\n",
    "from torchvision.models import resnet50, vgg16, efficientnet_b0\n",
    "from torchvision.models import ResNet50_Weights, VGG16_Weights, EfficientNet_B0_Weights\n",
    "from scipy.spatial.distance import cosine\n",
    "from skimage.metrics import structural_similarity as ssim\n"
   ]
  },
  {
   "cell_type": "code",
   "execution_count": 2,
   "id": "fe96d148-d636-4175-b21d-29e039d5795d",
   "metadata": {},
   "outputs": [],
   "source": [
    "# Compute SSIM\n",
    "def compute_ssim(image1_path, image2_path):\n",
    "    img1 = cv2.imread(image1_path, cv2.IMREAD_GRAYSCALE)\n",
    "    img2 = cv2.imread(image2_path, cv2.IMREAD_GRAYSCALE)\n",
    "    \n",
    "    # Resize to ensure consistent dimensions\n",
    "    img1 = cv2.resize(img1, (256, 256))\n",
    "    img2 = cv2.resize(img2, (256, 256))\n",
    "    \n",
    "    similarity, _ = ssim(img1, img2, full=True)\n",
    "    return similarity\n",
    "\n",
    "# Compute SIFT Matches\n",
    "def sift_similarity(image1_path, image2_path):\n",
    "    sift = cv2.SIFT_create()\n",
    "    img1 = cv2.imread(image1_path, cv2.IMREAD_GRAYSCALE)\n",
    "    img2 = cv2.imread(image2_path, cv2.IMREAD_GRAYSCALE)\n",
    "    kp1, des1 = sift.detectAndCompute(img1, None)\n",
    "    kp2, des2 = sift.detectAndCompute(img2, None)\n",
    "    \n",
    "    if des1 is None or des2 is None:\n",
    "        return 0, 0, 0\n",
    "    \n",
    "    # Match descriptors using FLANN\n",
    "    index_params = dict(algorithm=1, trees=5)\n",
    "    search_params = dict(checks=50)\n",
    "    flann = cv2.FlannBasedMatcher(index_params, search_params)\n",
    "    matches = flann.knnMatch(des1, des2, k=2)\n",
    "    \n",
    "    # Apply Lowe's ratio test\n",
    "    good_matches = [m for m, n in matches if m.distance < 0.7 * n.distance]\n",
    "    return len(good_matches), len(kp1), len(kp2)\n",
    "\n",
    "# Extract features using deep learning models\n",
    "def extract_features_dl(image_path, model, transform):\n",
    "    img = cv2.imread(image_path)\n",
    "    img = cv2.cvtColor(img, cv2.COLOR_BGR2RGB)\n",
    "    img_tensor = transform(img).unsqueeze(0)\n",
    "    with torch.no_grad():\n",
    "        features = model(img_tensor)\n",
    "    return features.squeeze().numpy()\n",
    "\n",
    "def compute_cosine_similarity(features1, features2):\n",
    "    return 1 - cosine(features1, features2)\n"
   ]
  },
  {
   "cell_type": "code",
   "execution_count": 3,
   "id": "c7987a29-4fb3-454e-82ad-55be9593661c",
   "metadata": {},
   "outputs": [],
   "source": [
    "# Load pretrained models\n",
    "def load_models():\n",
    "    models = {\n",
    "        \"ResNet50\": resnet50(weights=ResNet50_Weights.DEFAULT),\n",
    "        \"VGG16\": vgg16(weights=VGG16_Weights.DEFAULT),\n",
    "        \"EfficientNet_B0\": efficientnet_b0(weights=EfficientNet_B0_Weights.DEFAULT),\n",
    "    }\n",
    "    return models\n",
    "\n",
    "models = load_models()\n"
   ]
  },
  {
   "cell_type": "code",
   "execution_count": 4,
   "id": "4d38132b-2727-491e-8b06-87cf15281487",
   "metadata": {},
   "outputs": [],
   "source": [
    "# Define the transformation pipeline\n",
    "transform = transforms.Compose([\n",
    "    transforms.ToPILImage(),\n",
    "    transforms.Resize((224, 224)),\n",
    "    transforms.ToTensor(),\n",
    "    transforms.Normalize(mean=[0.485, 0.456, 0.406], std=[0.229, 0.224, 0.225]),\n",
    "])\n"
   ]
  },
  {
   "cell_type": "code",
   "execution_count": 5,
   "id": "4ca24290-197e-4814-a555-a7cd07ee38f5",
   "metadata": {},
   "outputs": [
    {
     "name": "stdout",
     "output_type": "stream",
     "text": [
      "ResNet50 Cosine Similarity: 0.6695\n",
      "VGG16 Cosine Similarity: 0.7140\n",
      "EfficientNet_B0 Cosine Similarity: 0.5984\n",
      "SSIM Score: 0.5609\n",
      "Number of good matches: 9\n",
      "Keypoints in Image 1: 228, Image 2: 221\n",
      "SIFT Match Ratio: 0.0407\n"
     ]
    }
   ],
   "source": [
    "# Replace with your image paths\n",
    "# img1_path = \"path_to_first_image.jpg\"\n",
    "# img2_path = \"path_to_second_image.jpg\"\n",
    "img1= 'bankmellat_pic3.jpeg'\n",
    "img2 = 'bankghavamin_pic7.jpg'\n",
    "  \n",
    "img1_path = f\"/home/mahdi/Phishing_Project/images/{img1}\"\n",
    "img2_path = f\"/home/mahdi/Phishing_Project/images/{img2}\"\n",
    "# Deep Learning Comparisons\n",
    "for name, model in models.items():\n",
    "    model.fc = torch.nn.Identity()  # Remove classification layer for ResNet\n",
    "    model.eval()\n",
    "    similarity = compute_cosine_similarity(\n",
    "        extract_features_dl(img1_path, model, transform),\n",
    "        extract_features_dl(img2_path, model, transform)\n",
    "    )\n",
    "    print(f\"{name} Cosine Similarity: {similarity:.4f}\")\n",
    "\n",
    "# SSIM\n",
    "ssim_score = compute_ssim(img1_path, img2_path)\n",
    "print(f\"SSIM Score: {ssim_score:.4f}\")\n",
    "\n",
    "# SIFT\n",
    "good_matches, kp1, kp2 = sift_similarity(img1_path, img2_path)\n",
    "print(f\"Number of good matches: {good_matches}\")\n",
    "print(f\"Keypoints in Image 1: {kp1}, Image 2: {kp2}\")\n",
    "print(f\"SIFT Match Ratio: {good_matches / min(kp1, kp2):.4f}\")\n"
   ]
  },
  {
   "cell_type": "code",
   "execution_count": null,
   "id": "d76eda2f-3873-438f-84f1-383a364b8790",
   "metadata": {},
   "outputs": [],
   "source": []
  },
  {
   "cell_type": "code",
   "execution_count": null,
   "id": "34efba0a-c7c6-4caa-9048-2b91c112a18b",
   "metadata": {},
   "outputs": [],
   "source": []
  }
 ],
 "metadata": {
  "kernelspec": {
   "display_name": ".venv",
   "language": "python",
   "name": "python3"
  },
  "language_info": {
   "codemirror_mode": {
    "name": "ipython",
    "version": 3
   },
   "file_extension": ".py",
   "mimetype": "text/x-python",
   "name": "python",
   "nbconvert_exporter": "python",
   "pygments_lexer": "ipython3",
   "version": "3.12.4"
  }
 },
 "nbformat": 4,
 "nbformat_minor": 5
}
